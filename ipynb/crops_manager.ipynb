{
 "cells": [
  {
   "cell_type": "code",
   "execution_count": null,
   "id": "f5264500",
   "metadata": {},
   "outputs": [],
   "source": [
    "from sentinel_2 import data_manager, Indices\n",
    "from crops_manager import crops_manager\n",
    "\n",
    "from shapely.geometry import Point, Polygon\n",
    "import matplotlib.pyplot as plt\n",
    "from datetime import datetime\n",
    "import pandas as pd\n",
    "import numpy as np\n",
    "import re\n",
    "import os"
   ]
  },
  {
   "cell_type": "code",
   "execution_count": null,
   "id": "029d2bb9",
   "metadata": {},
   "outputs": [],
   "source": [
    "# read VH data\n",
    "data = pd.read_csv('./dati.csv', sep=';')\n",
    "\n",
    "data.loc[:, 'lat'] = data['COORD. GPS'].apply(lambda x: float(x.split(', ')[0]))\n",
    "data.loc[:, 'long'] = data['COORD. GPS'].apply(lambda x: float(x.split(', ')[1]))\n",
    "\n",
    "data.loc[:, 'dateref'] = data['DATA EVENTO'].apply(lambda x: [i for i in re.sub('  +', '_', x).split('_') if len(i) > 0])\n",
    "data = data.explode('dateref')\n",
    "data['dateref'] = data.dateref.apply(lambda x: datetime.strptime(x, '%d/%m/%Y ; %H:%M'))"
   ]
  },
  {
   "cell_type": "code",
   "execution_count": null,
   "id": "909d13bb",
   "metadata": {},
   "outputs": [],
   "source": [
    "data.head()"
   ]
  },
  {
   "cell_type": "raw",
   "id": "da2b9fb2",
   "metadata": {},
   "source": []
  },
  {
   "cell_type": "code",
   "execution_count": null,
   "id": "787fd893",
   "metadata": {},
   "outputs": [],
   "source": [
    "numpy_root_data_dir = '/Volumes/cuda4.deepleey.com/Sentinel2-crops'\n",
    "# numpy_root_data_dir = '/Volumes/Volume'\n",
    "\n",
    "tile = 'T32TNQ'"
   ]
  },
  {
   "cell_type": "code",
   "execution_count": null,
   "id": "640d485a",
   "metadata": {},
   "outputs": [],
   "source": [
    "cmgr = crops_manager(numpy_root_data_dir, tile)"
   ]
  },
  {
   "cell_type": "code",
   "execution_count": null,
   "id": "f55ac829",
   "metadata": {},
   "outputs": [],
   "source": [
    "evento = data[data.CERTIFICATO == 18625]\n",
    "evento"
   ]
  },
  {
   "cell_type": "markdown",
   "id": "9c3fa166",
   "metadata": {},
   "source": [
    "### data una coppia di coordinate recupero l'id del crop che le contiene"
   ]
  },
  {
   "cell_type": "code",
   "execution_count": null,
   "id": "b5928c7d",
   "metadata": {},
   "outputs": [],
   "source": [
    "cmgr.getId_by_longlat(evento.long, evento.lat)"
   ]
  },
  {
   "cell_type": "code",
   "execution_count": null,
   "id": "ab7cec10",
   "metadata": {},
   "outputs": [],
   "source": [
    "data.loc[:, 'crop'] = data.apply(lambda x: cmgr.getId_by_longlat(x.long, x.lat), axis=1)\n",
    "data = data.explode('crop').dropna()"
   ]
  },
  {
   "cell_type": "code",
   "execution_count": null,
   "id": "ea64267d",
   "metadata": {},
   "outputs": [],
   "source": [
    "evento = data[data.CERTIFICATO == 18625].iloc[0]\n",
    "evento"
   ]
  },
  {
   "cell_type": "markdown",
   "id": "52495507",
   "metadata": {},
   "source": [
    "### dato l'id del crop, restituisce gli shape dei campi individuati"
   ]
  },
  {
   "cell_type": "raw",
   "id": "d7f73e26",
   "metadata": {},
   "source": [
    "cmgr.get_veg_shapes(evento.crop, seg_type='panoptic')"
   ]
  },
  {
   "cell_type": "code",
   "execution_count": null,
   "id": "7d0d5fb6",
   "metadata": {},
   "outputs": [],
   "source": [
    "crops_map = {_id: cmgr.get_veg_shapes(_id, seg_type='panoptic') for _id in data.crop.unique()}"
   ]
  },
  {
   "cell_type": "code",
   "execution_count": null,
   "id": "dd0b765e",
   "metadata": {},
   "outputs": [],
   "source": [
    "data.loc[:, 'panoptic_label'] = data.apply(lambda x: crops_map[x.crop][crops_map[x.crop].contains(Point(x.long, \n",
    "                                                                                                        x.lat))].label.values \n",
    "                                           if crops_map[x.crop].shape[0] > 0 else None, \n",
    "                                           axis=1)\n",
    "data = data.explode('panoptic_label')"
   ]
  },
  {
   "cell_type": "code",
   "execution_count": null,
   "id": "ac486cf4",
   "metadata": {},
   "outputs": [],
   "source": [
    "data.dropna()"
   ]
  },
  {
   "cell_type": "markdown",
   "id": "fce02e41",
   "metadata": {},
   "source": [
    "### data una coppia di coordinate recupero l'id dei crop con baricentro in un range di distanze (in metri)"
   ]
  },
  {
   "cell_type": "code",
   "execution_count": null,
   "id": "49614c8b",
   "metadata": {},
   "outputs": [],
   "source": [
    "cmgr.getId_by_distance(evento.long, evento.lat, min_distance=0, max_distance=2000)"
   ]
  },
  {
   "cell_type": "markdown",
   "id": "7a628c6c-2e77-42bc-a964-b0e89a84b247",
   "metadata": {},
   "source": [
    "### "
   ]
  },
  {
   "cell_type": "markdown",
   "id": "279dee27-af33-4ca7-80da-810720251265",
   "metadata": {},
   "source": [
    "### date le coordinate, restituisce una maschera relativa allo shape che le contiene"
   ]
  },
  {
   "cell_type": "code",
   "execution_count": null,
   "id": "cf339ac5-080b-41fa-991b-aebdf976e48f",
   "metadata": {},
   "outputs": [],
   "source": [
    "evento = data.iloc[10]"
   ]
  },
  {
   "cell_type": "code",
   "execution_count": null,
   "id": "ef4d8f2f-07cc-47b8-a0de-de444ca02a1b",
   "metadata": {},
   "outputs": [],
   "source": [
    "_mask = cmgr.get_mask_by_longlat(evento.long, evento.lat, seg_type='semantic')"
   ]
  },
  {
   "cell_type": "code",
   "execution_count": null,
   "id": "86a76636-1891-42e0-a47f-28a9b87c7b5b",
   "metadata": {},
   "outputs": [],
   "source": [
    "plt.imshow(_mask)"
   ]
  },
  {
   "cell_type": "code",
   "execution_count": null,
   "id": "94103d3f-92dc-4ae2-903b-7f5a3037dabb",
   "metadata": {},
   "outputs": [],
   "source": []
  },
  {
   "cell_type": "raw",
   "id": "dea19e60-1e6e-4390-bc3f-9dddd58a8a46",
   "metadata": {},
   "source": [
    "out = []\n",
    "for cert, df in data.groupby('CERTIFICATO'):\n",
    "    evento = df.iloc[0]\n",
    "    _mask = cmgr.get_mask_by_longlat(evento.long, evento.lat)\n",
    "    f = os.path.join(numpy_root_data_dir, tile, evento.crop)\n",
    "    dm = data_manager(f)\n",
    "    ts = dm.get_index_ts(dm.ndvi, FMK=_mask)\n",
    "    out.append({'certificato': cert, 'ts': ts})"
   ]
  },
  {
   "cell_type": "raw",
   "id": "12300070-c19a-44fa-92d9-586442ef2ed6",
   "metadata": {},
   "source": [
    "pd.DataFrame(out).set_index('certificato')  #.loc[27280].ts.plot()"
   ]
  },
  {
   "cell_type": "code",
   "execution_count": null,
   "id": "46c2c3a7",
   "metadata": {},
   "outputs": [],
   "source": []
  },
  {
   "cell_type": "code",
   "execution_count": null,
   "id": "8cd281bd",
   "metadata": {},
   "outputs": [],
   "source": []
  }
 ],
 "metadata": {
  "kernelspec": {
   "display_name": "Python 3 (ipykernel)",
   "language": "python",
   "name": "python3"
  },
  "language_info": {
   "codemirror_mode": {
    "name": "ipython",
    "version": 3
   },
   "file_extension": ".py",
   "mimetype": "text/x-python",
   "name": "python",
   "nbconvert_exporter": "python",
   "pygments_lexer": "ipython3",
   "version": "3.9.13"
  }
 },
 "nbformat": 4,
 "nbformat_minor": 5
}
