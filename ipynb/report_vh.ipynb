{
 "cells": [
  {
   "cell_type": "code",
   "execution_count": null,
   "id": "f5264500",
   "metadata": {},
   "outputs": [],
   "source": [
    "from sentinel_2 import data_manager, Indices\n",
    "from crops_manager import crops_manager\n",
    "from plot_utils import *\n",
    "\n",
    "from shapely.geometry import Point, Polygon\n",
    "import matplotlib.pyplot as plt\n",
    "from datetime import datetime\n",
    "from skimage import exposure\n",
    "import rasterio.mask\n",
    "import pandas as pd\n",
    "import numpy as np\n",
    "import matplotlib\n",
    "import rasterio\n",
    "import re\n",
    "import os"
   ]
  },
  {
   "cell_type": "code",
   "execution_count": null,
   "id": "029d2bb9",
   "metadata": {},
   "outputs": [],
   "source": [
    "# read VH data\n",
    "data = pd.read_csv('./dati.csv', sep=';')\n",
    "\n",
    "data.loc[:, 'lat'] = data['COORD. GPS'].apply(lambda x: float(x.split(', ')[0]))\n",
    "data.loc[:, 'long'] = data['COORD. GPS'].apply(lambda x: float(x.split(', ')[1]))\n",
    "\n",
    "data.loc[:, 'dateref'] = data['DATA EVENTO'].apply(lambda x: [i for i in re.sub('  +', '_', x).split('_') if len(i) > 0])\n",
    "data = data.explode('dateref')\n",
    "data['dateref'] = data.dateref.apply(lambda x: datetime.strptime(x, '%d/%m/%Y ; %H:%M'))"
   ]
  },
  {
   "cell_type": "code",
   "execution_count": null,
   "id": "909d13bb",
   "metadata": {},
   "outputs": [],
   "source": [
    "data.head()"
   ]
  },
  {
   "cell_type": "raw",
   "id": "da2b9fb2",
   "metadata": {},
   "source": []
  },
  {
   "cell_type": "code",
   "execution_count": null,
   "id": "787fd893",
   "metadata": {},
   "outputs": [],
   "source": [
    "numpy_root_data_dir = '/Volumes/cuda4.deepleey.com/Sentinel2-crops'\n",
    "\n",
    "tile = 'T32TNQ'"
   ]
  },
  {
   "cell_type": "code",
   "execution_count": null,
   "id": "640d485a",
   "metadata": {},
   "outputs": [],
   "source": [
    "cmgr = crops_manager(numpy_root_data_dir, tile)"
   ]
  },
  {
   "cell_type": "markdown",
   "id": "9c3fa166",
   "metadata": {},
   "source": [
    "### data una coppia di coordinate recupero l'id del crop che le contiene"
   ]
  },
  {
   "cell_type": "code",
   "execution_count": null,
   "id": "ab7cec10",
   "metadata": {},
   "outputs": [],
   "source": [
    "data.loc[:, 'crop'] = data.apply(lambda x: cmgr.getId_by_longlat(x.long, x.lat), axis=1)\n",
    "data = data.explode('crop').dropna().reset_index(drop=True)"
   ]
  },
  {
   "cell_type": "markdown",
   "id": "c53da7a8",
   "metadata": {},
   "source": [
    "### dato l'id del crop, restituisce gli shape dei campi individuati"
   ]
  },
  {
   "cell_type": "code",
   "execution_count": null,
   "id": "ccf36012-d166-428b-b51a-821c4e697bbd",
   "metadata": {},
   "outputs": [],
   "source": [
    "semantic_map = {_id: cmgr.get_veg_shapes(_id, seg_type='semantic') for _id in data.crop.unique()}\n",
    "panoptic_map = {_id: cmgr.get_veg_shapes(_id, seg_type='panoptic') for _id in data.crop.unique()}"
   ]
  },
  {
   "cell_type": "code",
   "execution_count": null,
   "id": "58fadc70-0efa-4db7-bcd3-3d419a94c10a",
   "metadata": {},
   "outputs": [],
   "source": [
    "data.loc[:, 'semantic_label'] = data.apply(lambda x: semantic_map[x.crop][semantic_map[x.crop].contains(Point(x.long, x.lat))].label.values \n",
    "                                           if semantic_map[x.crop].shape[0] > 0 else None, axis=1).explode()"
   ]
  },
  {
   "cell_type": "code",
   "execution_count": null,
   "id": "a8760d76-bcf3-48f2-94e7-72d6ef568670",
   "metadata": {},
   "outputs": [],
   "source": [
    "data.loc[:, 'panoptic_label'] = data.apply(lambda x: panoptic_map[x.crop][panoptic_map[x.crop].contains(Point(x.long, x.lat))].label.values \n",
    "                                           if panoptic_map[x.crop].shape[0] > 0 else None, axis=1).explode()"
   ]
  },
  {
   "cell_type": "raw",
   "id": "a602fa2f",
   "metadata": {},
   "source": []
  },
  {
   "cell_type": "code",
   "execution_count": null,
   "id": "6608ce38-5a94-4602-9106-974511d7506f",
   "metadata": {},
   "outputs": [],
   "source": [
    "i_event = data.groupby('CERTIFICATO').apply(lambda x: pd.Series(index=x.index, data=list(range(len(x))))).reset_index(level=0, drop=True).rename('i_event')"
   ]
  },
  {
   "cell_type": "code",
   "execution_count": null,
   "id": "ab08a7df-3726-4f2b-88e8-3ad51e5c0488",
   "metadata": {},
   "outputs": [],
   "source": [
    "data = pd.concat([data, i_event], axis=1)"
   ]
  },
  {
   "cell_type": "code",
   "execution_count": null,
   "id": "0712360a-8d7c-4bca-bd83-cf37eb22c7a3",
   "metadata": {},
   "outputs": [],
   "source": [
    "def panel_period_close_to_event(crop, dateref, long, lat):\n",
    "    f = os.path.join(numpy_root_data_dir, tile, crop)\n",
    "    dm = data_manager(f)\n",
    "    date_df = dm.__get_df_from_filelist__(dm.data_fnames)\n",
    "    \n",
    "    serie_to_plot = pd.concat([date_df[date_df.index < dateref].iloc[-5:], \n",
    "                               date_df[date_df.index > dateref].iloc[:5]], axis=0)\n",
    "    \n",
    "    geo_ref = cmgr.__retrieve_geo_ref__(crop, count=3)\n",
    "    row, col = geo_ref.index(long, lat)\n",
    "\n",
    "    fig, ax = plt.subplots(2, 5, figsize=(20, 8))\n",
    "    for i, (idx, elm) in enumerate(serie_to_plot.items()):\n",
    "        x = np.load(elm)\n",
    "        im = get_rgb(x)\n",
    "        ax[i//5][i%5].imshow(im, interpolation=None)\n",
    "        ax[i//5][i%5].plot(col, row, marker='.', c='r')\n",
    "        ax[i//5][i%5].axis('off')\n",
    "        ax[i//5][i%5].set_title(idx.date())"
   ]
  },
  {
   "cell_type": "raw",
   "id": "b59fb990-2429-445a-b31c-780781bd9d32",
   "metadata": {},
   "source": [
    "for _, to_plot in data.head(3).iterrows():\n",
    "    panel_period_close_to_event(**to_plot[['crop', 'dateref', 'long', 'lat']])\n",
    "    # plt.savefig('./output/rgb/{}_{}.png'.format(to_plot['CERTIFICATO'], to_plot['i_event']))"
   ]
  },
  {
   "cell_type": "code",
   "execution_count": null,
   "id": "95202c23-335d-498a-96cc-3604ff09792c",
   "metadata": {},
   "outputs": [],
   "source": [
    "panel_period_close_to_event(**data.iloc[10][['crop', 'dateref', 'long', 'lat']])"
   ]
  },
  {
   "cell_type": "raw",
   "id": "fd6d8c3c-c803-43d8-87d8-5fe7d52790db",
   "metadata": {},
   "source": []
  },
  {
   "cell_type": "code",
   "execution_count": null,
   "id": "2c7b3fde-dcb3-48a2-909a-a7b2d3a5d482",
   "metadata": {},
   "outputs": [],
   "source": [
    "def add_veg_shape(_ax, crop, seg_type='semantic'):\n",
    "    _veg = cmgr.get_veg_shapes(crop, seg_type=seg_type, coord=False)\n",
    "    for _, row in _veg.iterrows():\n",
    "        _interior, _exterior = get_plt_patch(row.label, row.geometry)\n",
    "        _ax.add_patch(_interior)\n",
    "        _ax.add_patch(_exterior)"
   ]
  },
  {
   "cell_type": "code",
   "execution_count": null,
   "id": "546cf82e-afbd-4647-9431-5326e2f722f2",
   "metadata": {},
   "outputs": [],
   "source": [
    "def plot_legend(_ax):\n",
    "    _ax.matshow(np.stack([np.arange(0, 20) for _ in range(3)], axis=1), cmap = cmap)\n",
    "    _ax.set_yticks(ticks = range(20), labels=['{} - {}'.format(i, _l) for i, _l in enumerate(label_names)])\n",
    "    _ax.set_xticks(ticks=[])"
   ]
  },
  {
   "cell_type": "code",
   "execution_count": null,
   "id": "b484ed6f-a582-47e8-9072-74416f90990b",
   "metadata": {},
   "outputs": [],
   "source": [
    "def panel_crops(crop, long, lat):\n",
    "    f = os.path.join(numpy_root_data_dir, tile, crop)\n",
    "    dm = data_manager(f)\n",
    "    x = dm.get_data_from_date(datetime(2022, 7, 10)).astype(np.float64)\n",
    "    fig, ax = plt.subplots(1, 4, figsize=(25, 8))\n",
    "    im = get_rgb(x)\n",
    "    ax[0].imshow(im)\n",
    "    ax[1].imshow(im)\n",
    "    ax[2].imshow(im)\n",
    "    \n",
    "    add_veg_shape(ax[1], crop, seg_type='semantic')\n",
    "    add_veg_shape(ax[2], crop, seg_type='panoptic')\n",
    "    \n",
    "    geo_ref = cmgr.__retrieve_geo_ref__(crop, count=3)\n",
    "    row, col = geo_ref.index(long, lat)\n",
    "    ax[0].plot(col, row, marker='.', c='r')\n",
    "    ax[1].plot(col, row, marker='.', c='r')\n",
    "    ax[2].plot(col, row, marker='.', c='r')\n",
    "\n",
    "    ax[0].axis('off')\n",
    "    ax[1].axis('off')\n",
    "    ax[2].axis('off')\n",
    "    \n",
    "    plot_legend(ax[3])"
   ]
  },
  {
   "cell_type": "raw",
   "id": "1f160bf4-8263-4651-bd2b-51d2de29dd4e",
   "metadata": {},
   "source": [
    "for _, row in data.head(1).iterrows():\n",
    "    panel_crops(row)\n",
    "    # plt.savefig('./output/crops/{}_{}.png'.format(row['CERTIFICATO'], row['i_event']))"
   ]
  },
  {
   "cell_type": "code",
   "execution_count": null,
   "id": "6ec57032-b21c-48e1-b305-935677a4346a",
   "metadata": {},
   "outputs": [],
   "source": [
    "panel_crops(**data.iloc[10][['crop', 'long', 'lat']])"
   ]
  },
  {
   "cell_type": "raw",
   "id": "6423b785-8a57-4a16-b6b6-9bbe6f4d3cde",
   "metadata": {},
   "source": []
  },
  {
   "cell_type": "code",
   "execution_count": null,
   "id": "4c5c041a",
   "metadata": {},
   "outputs": [],
   "source": []
  },
  {
   "cell_type": "code",
   "execution_count": null,
   "id": "46c2c3a7",
   "metadata": {},
   "outputs": [],
   "source": []
  },
  {
   "cell_type": "code",
   "execution_count": null,
   "id": "8cd281bd",
   "metadata": {},
   "outputs": [],
   "source": []
  }
 ],
 "metadata": {
  "kernelspec": {
   "display_name": "Python 3 (ipykernel)",
   "language": "python",
   "name": "python3"
  },
  "language_info": {
   "codemirror_mode": {
    "name": "ipython",
    "version": 3
   },
   "file_extension": ".py",
   "mimetype": "text/x-python",
   "name": "python",
   "nbconvert_exporter": "python",
   "pygments_lexer": "ipython3",
   "version": "3.9.13"
  }
 },
 "nbformat": 4,
 "nbformat_minor": 5
}
